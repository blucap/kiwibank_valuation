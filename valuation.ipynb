{
 "cells": [
  {
   "cell_type": "markdown",
   "source": [
    "## Valuation of Kiwibank using multiples ##\n",
    "\n",
    "The code below shows the valuation of Kiwibank at the moment of the announcement of the acquisition by the New Zealand government on 22 August 2022. I use a valuation method based on so-called \"multiples\", because traditional valuation approaches, based on discounting cashflows, do not work well. The discount factor is low and volatile, which will result in large valuation swings.\n",
    "\n",
    "The approach I take is well-documented and empirically tested. See, for example, this academic paper: [Equity Valuation Using Multiples Jing Liu, Doron Nissim, Jacob Thomas](https://onlinelibrary.wiley.com/doi/10.1111/1475-679X.00042).\n",
    "\n",
    "The approach relies on a group of comparable firms. These firms are very similar to the firm one wants to value. The difference is that the comparable firms are all listed, so they all have a market value. For these firms, it is straightforward to find a representative P/E ratio (Price to Earnings) or Price to Book ratio. To determine the value of an unlisted firm, you multiply these ratios by the earnings or book value of the firm you are interested in.\n",
    "\n",
    "To illustrate: suppose the average P/E ratio of the group of comparable firms is 15 and your firm reports a profit of $\\$1 million. Its value would then be $\\$15 million.\n",
    "\n",
    "The challenging part of this approach is finding the right group of comparable firms. For Kiwibank, I chose banks from OECD countries and European banks. I excluded banks from the US and Japan (because the accounting is different in the US, and because there are too many Japanese banks ending up in my sample). I also selected banks that are about the same size as Kiwibank and I filtered out banks with extreme values of critical variables.\n",
    "\n",
    "After determining the proper group of comparable banks, I determined the P/E ratio and the P/B (Price to Book) ratio and multiplied these ratios with Kiwibank's income number and book value.\n",
    "\n",
    "<br>\n",
    "\n",
    "I use Python to show you my workings. The data is from Datastream and the variables I use are shown below. You should be able to replicate my work."
   ],
   "metadata": {
    "collapsed": false
   }
  },
  {
   "cell_type": "markdown",
   "source": [
    "Initiate Python, variables, countries"
   ],
   "metadata": {
    "collapsed": false
   }
  },
  {
   "cell_type": "code",
   "execution_count": 1,
   "metadata": {
    "collapsed": true
   },
   "outputs": [],
   "source": [
    "import pandas as pd\n",
    "import numpy as np\n",
    "from scipy import stats\n",
    "variables = {'X(MV)~E': 'MV', 'PE': 'PE', 'X(WC05476)~E': 'BVPS', 'MTBV': 'MTBV', 'PTBV': 'PTBV', 'X(DWTA)~E': 'DWTA', 'X(EPS)~E': 'EPS', 'X(P)~E': 'P', 'NOSH': 'NOSH', 'X(WC01751)~E': 'NI', 'NAME': 'NAME', 'country_name': 'country', 'X(WC18228)~E': 'Tier1', 'WC18157': 'Tier1Ratio', 'X(WC18156)~E': 'RWA', 'date': 'date'} # All values retrieved in Euros\n",
    "country_list = pd.read_csv('oecd_eu_oz_nz.csv').set_index('country')"
   ]
  },
  {
   "cell_type": "markdown",
   "source": [
    "Retrieve data from a Datastream Request table"
   ],
   "metadata": {
    "collapsed": false
   }
  },
  {
   "cell_type": "code",
   "execution_count": 2,
   "outputs": [],
   "source": [
    "df = pd.read_excel(\"DFORequestTable2.xlsm\", sheet_name=\"values\").set_index('GGISO').join(country_list).rename(columns=variables).set_index('Type').dropna(subset=['country', 'EPS', 'DWTA', 'MTBV', 'NI', 'PE'])\n",
    "df = df.assign(dual=df.NAME.str.contains('\\([A-Z]+\\)', regex=True, na=False),\n",
    "               NOSH=df.NOSH.replace(0, np.NaN))\n",
    "\n",
    "keep = ['NAME', 'country', 'NOSH', 'PE', 'MTBV', 'PTBV', 'NI', 'RWA', 'Tier1Ratio', 'MV', 'DWTA', 'EPS', 'P', 'BVPS', 'Tier1', 'date']"
   ],
   "metadata": {
    "collapsed": false
   }
  },
  {
   "cell_type": "markdown",
   "source": [
    "Determine additional variables and make some adjustments."
   ],
   "metadata": {
    "collapsed": false
   }
  },
  {
   "cell_type": "code",
   "execution_count": 3,
   "outputs": [
    {
     "data": {
      "text/plain": "                           NAME country        NOSH    PE  MTBV  PTBV  \\\nType                                                                    \nF:CAIV          CARDE.CAMU.IEV.  France      2277.0   8.3  0.14  0.20   \nPO:ALR               ALIOR BANK  Poland    130554.0  14.2  1.21  1.21   \nF:LAV   CRCAM ATLANTIQUE VENDEE  France      1260.0   6.8  0.12  0.18   \nE:SAN           BANCO SANTANDER   Spain  17340620.0   8.3  0.59  0.58   \nTK:FIN         QNB FINANSBANK B  Turkey   3350000.0  39.9  5.95  5.95   \n\n               NI          RWA  Tier1Ratio          MV  ...     EPS        P  \\\nType                                                    ...                    \nF:CAIV    61508.0    5457579.0      0.2068    157110.0  ...   8.350  68.9900   \nPO:ALR   105147.0   10782315.0      0.1255   1558100.0  ...   0.840  11.9300   \nF:LAV    113463.0          NaN      0.2648    111670.0  ...  13.020  88.6000   \nE:SAN   8124000.0  579478000.0      0.1379  50990120.0  ...   0.350   2.9405   \nTK:FIN   258690.0   16315485.0      0.1221   8717910.0  ...   0.065   2.6000   \n\n           BVPS       Tier1       date            BV  leverage       roe  \\\nType                                                                       \nF:CAIV  349.480   1128000.0 2021-12-31  7.957660e+05  0.044912  0.023893   \nPO:ALR    9.892   1352726.0 2021-12-31  1.291440e+06  0.071273  0.084917   \nF:LAV   482.581         NaN 2021-12-31  6.080521e+05  0.021718  0.026980   \nE:SAN     5.095  79939000.0 2021-12-31  8.835046e+07  0.056046  0.068695   \nTK:FIN    0.438   1992121.0 2021-12-31  1.467300e+06  0.057777  0.148402   \n\n             roa   density  \nType                        \nF:CAIV  0.003471  0.308016  \nPO:ALR  0.005803  0.595062  \nF:LAV   0.004053       NaN  \nE:SAN   0.005154  0.367597  \nTK:FIN  0.010186  0.642450  \n\n[5 rows x 21 columns]",
      "text/html": "<div>\n<style scoped>\n    .dataframe tbody tr th:only-of-type {\n        vertical-align: middle;\n    }\n\n    .dataframe tbody tr th {\n        vertical-align: top;\n    }\n\n    .dataframe thead th {\n        text-align: right;\n    }\n</style>\n<table border=\"1\" class=\"dataframe\">\n  <thead>\n    <tr style=\"text-align: right;\">\n      <th></th>\n      <th>NAME</th>\n      <th>country</th>\n      <th>NOSH</th>\n      <th>PE</th>\n      <th>MTBV</th>\n      <th>PTBV</th>\n      <th>NI</th>\n      <th>RWA</th>\n      <th>Tier1Ratio</th>\n      <th>MV</th>\n      <th>...</th>\n      <th>EPS</th>\n      <th>P</th>\n      <th>BVPS</th>\n      <th>Tier1</th>\n      <th>date</th>\n      <th>BV</th>\n      <th>leverage</th>\n      <th>roe</th>\n      <th>roa</th>\n      <th>density</th>\n    </tr>\n    <tr>\n      <th>Type</th>\n      <th></th>\n      <th></th>\n      <th></th>\n      <th></th>\n      <th></th>\n      <th></th>\n      <th></th>\n      <th></th>\n      <th></th>\n      <th></th>\n      <th></th>\n      <th></th>\n      <th></th>\n      <th></th>\n      <th></th>\n      <th></th>\n      <th></th>\n      <th></th>\n      <th></th>\n      <th></th>\n      <th></th>\n    </tr>\n  </thead>\n  <tbody>\n    <tr>\n      <th>F:CAIV</th>\n      <td>CARDE.CAMU.IEV.</td>\n      <td>France</td>\n      <td>2277.0</td>\n      <td>8.3</td>\n      <td>0.14</td>\n      <td>0.20</td>\n      <td>61508.0</td>\n      <td>5457579.0</td>\n      <td>0.2068</td>\n      <td>157110.0</td>\n      <td>...</td>\n      <td>8.350</td>\n      <td>68.9900</td>\n      <td>349.480</td>\n      <td>1128000.0</td>\n      <td>2021-12-31</td>\n      <td>7.957660e+05</td>\n      <td>0.044912</td>\n      <td>0.023893</td>\n      <td>0.003471</td>\n      <td>0.308016</td>\n    </tr>\n    <tr>\n      <th>PO:ALR</th>\n      <td>ALIOR BANK</td>\n      <td>Poland</td>\n      <td>130554.0</td>\n      <td>14.2</td>\n      <td>1.21</td>\n      <td>1.21</td>\n      <td>105147.0</td>\n      <td>10782315.0</td>\n      <td>0.1255</td>\n      <td>1558100.0</td>\n      <td>...</td>\n      <td>0.840</td>\n      <td>11.9300</td>\n      <td>9.892</td>\n      <td>1352726.0</td>\n      <td>2021-12-31</td>\n      <td>1.291440e+06</td>\n      <td>0.071273</td>\n      <td>0.084917</td>\n      <td>0.005803</td>\n      <td>0.595062</td>\n    </tr>\n    <tr>\n      <th>F:LAV</th>\n      <td>CRCAM ATLANTIQUE VENDEE</td>\n      <td>France</td>\n      <td>1260.0</td>\n      <td>6.8</td>\n      <td>0.12</td>\n      <td>0.18</td>\n      <td>113463.0</td>\n      <td>NaN</td>\n      <td>0.2648</td>\n      <td>111670.0</td>\n      <td>...</td>\n      <td>13.020</td>\n      <td>88.6000</td>\n      <td>482.581</td>\n      <td>NaN</td>\n      <td>2021-12-31</td>\n      <td>6.080521e+05</td>\n      <td>0.021718</td>\n      <td>0.026980</td>\n      <td>0.004053</td>\n      <td>NaN</td>\n    </tr>\n    <tr>\n      <th>E:SAN</th>\n      <td>BANCO SANTANDER</td>\n      <td>Spain</td>\n      <td>17340620.0</td>\n      <td>8.3</td>\n      <td>0.59</td>\n      <td>0.58</td>\n      <td>8124000.0</td>\n      <td>579478000.0</td>\n      <td>0.1379</td>\n      <td>50990120.0</td>\n      <td>...</td>\n      <td>0.350</td>\n      <td>2.9405</td>\n      <td>5.095</td>\n      <td>79939000.0</td>\n      <td>2021-12-31</td>\n      <td>8.835046e+07</td>\n      <td>0.056046</td>\n      <td>0.068695</td>\n      <td>0.005154</td>\n      <td>0.367597</td>\n    </tr>\n    <tr>\n      <th>TK:FIN</th>\n      <td>QNB FINANSBANK B</td>\n      <td>Turkey</td>\n      <td>3350000.0</td>\n      <td>39.9</td>\n      <td>5.95</td>\n      <td>5.95</td>\n      <td>258690.0</td>\n      <td>16315485.0</td>\n      <td>0.1221</td>\n      <td>8717910.0</td>\n      <td>...</td>\n      <td>0.065</td>\n      <td>2.6000</td>\n      <td>0.438</td>\n      <td>1992121.0</td>\n      <td>2021-12-31</td>\n      <td>1.467300e+06</td>\n      <td>0.057777</td>\n      <td>0.148402</td>\n      <td>0.010186</td>\n      <td>0.642450</td>\n    </tr>\n  </tbody>\n</table>\n<p>5 rows × 21 columns</p>\n</div>"
     },
     "execution_count": 3,
     "metadata": {},
     "output_type": "execute_result"
    }
   ],
   "source": [
    "def bv_calc(df):\n",
    "    return df.NOSH.mul(df.BVPS)\n",
    "\n",
    "\n",
    "df = df[keep].assign(BV=bv_calc(df),\n",
    "               MV=df.MV.mul(1000),  # mv in millions  bv in thousands\n",
    "               leverage=bv_calc(df).div(df['DWTA']),\n",
    "               roe=df['EPS'].div(df['BVPS']).replace(0, np.NaN),\n",
    "               roa=df['NI'].div(df['DWTA']).replace(0, np.NaN),\n",
    "               density=df['RWA'].div(df['DWTA']),\n",
    "               Tier1Ratio=df['Tier1Ratio'].div(100)\n",
    "               ).drop('TK:TBB').loc[df.dual == False]\n",
    "\n",
    "df.sample(5)"
   ],
   "metadata": {
    "collapsed": false
   }
  },
  {
   "cell_type": "markdown",
   "source": [
    "We now have 255 banks:"
   ],
   "metadata": {
    "collapsed": false
   }
  },
  {
   "cell_type": "code",
   "execution_count": 4,
   "outputs": [
    {
     "data": {
      "text/plain": "(255, 21)"
     },
     "execution_count": 4,
     "metadata": {},
     "output_type": "execute_result"
    }
   ],
   "source": [
    "df.shape"
   ],
   "metadata": {
    "collapsed": false
   }
  },
  {
   "cell_type": "markdown",
   "source": [
    "Convert currencies to NZD and re-order the dataframe columns."
   ],
   "metadata": {
    "collapsed": false
   }
  },
  {
   "cell_type": "code",
   "execution_count": 5,
   "outputs": [
    {
     "data": {
      "text/plain": "                                   NAME  country       NOSH    PE  MTBV  PTBV  \\\nType                                                                            \nW:NDAS                      NORDEA BANK  Finland  3965560.0  12.3  1.30  1.29   \nN:VVL     VOSS VEKSEL- OG LANDMANDSBANK   Norway     2221.0  11.7  0.77  0.77   \nIS:FIBIH              FIBI BANK HOLDING   Israel    35453.0   8.2  1.04  1.04   \nO:TYRO          BANK FUR TIROL UND VBG.  Austria    34031.0  13.2  0.59  0.58   \nCL:CRT     BANCO DE CREDITO E INVERSION    Chile   155887.0   8.0  0.86  0.86   \n\n                 NI          RWA  Tier1Ratio          MV  ...   EPS        P  \\\nType                                                      ...                  \nW:NDAS    3757082.0  151575470.0      0.1910  42559780.0  ...  0.88  10.7300   \nN:VVL        4448.0     291737.0      0.2013     44730.0  ...  1.72  20.1400   \nIS:FIBIH   190709.0   25141988.0      0.1146   1424350.0  ...  4.92  40.1761   \nO:TYRO      80493.0    8213700.0      0.1362   1075390.0  ...  2.39  31.6000   \nCL:CRT     537099.0   44679710.0      0.0999   4004590.0  ...  2.98  23.7200   \n\n            BVPS       Tier1       date            BV  leverage       roe  \\\nType                                                                        \nW:NDAS     8.308  28948873.0 2021-12-31  3.294587e+07  0.057912  0.105922   \nN:VVL     26.306     58730.0 2021-12-31  5.842563e+04  0.101946  0.065384   \nIS:FIBIH  38.587   2881547.0 2021-12-31  1.368025e+06  0.026918  0.127504   \nO:TYRO    54.060   1119100.0 2021-12-31  1.839716e+06  0.129151  0.044210   \nCL:CRT    27.509   4463756.0 2021-12-31  4.288295e+06  0.060297  0.108328   \n\n               roa   density  \nType                          \nW:NDAS    0.006604  0.266439  \nN:VVL     0.007761  0.509048  \nIS:FIBIH  0.003753  0.494716  \nO:TYRO    0.005651  0.576613  \nCL:CRT    0.007552  0.628231  \n\n[5 rows x 21 columns]",
      "text/html": "<div>\n<style scoped>\n    .dataframe tbody tr th:only-of-type {\n        vertical-align: middle;\n    }\n\n    .dataframe tbody tr th {\n        vertical-align: top;\n    }\n\n    .dataframe thead th {\n        text-align: right;\n    }\n</style>\n<table border=\"1\" class=\"dataframe\">\n  <thead>\n    <tr style=\"text-align: right;\">\n      <th></th>\n      <th>NAME</th>\n      <th>country</th>\n      <th>NOSH</th>\n      <th>PE</th>\n      <th>MTBV</th>\n      <th>PTBV</th>\n      <th>NI</th>\n      <th>RWA</th>\n      <th>Tier1Ratio</th>\n      <th>MV</th>\n      <th>...</th>\n      <th>EPS</th>\n      <th>P</th>\n      <th>BVPS</th>\n      <th>Tier1</th>\n      <th>date</th>\n      <th>BV</th>\n      <th>leverage</th>\n      <th>roe</th>\n      <th>roa</th>\n      <th>density</th>\n    </tr>\n    <tr>\n      <th>Type</th>\n      <th></th>\n      <th></th>\n      <th></th>\n      <th></th>\n      <th></th>\n      <th></th>\n      <th></th>\n      <th></th>\n      <th></th>\n      <th></th>\n      <th></th>\n      <th></th>\n      <th></th>\n      <th></th>\n      <th></th>\n      <th></th>\n      <th></th>\n      <th></th>\n      <th></th>\n      <th></th>\n      <th></th>\n    </tr>\n  </thead>\n  <tbody>\n    <tr>\n      <th>W:NDAS</th>\n      <td>NORDEA BANK</td>\n      <td>Finland</td>\n      <td>3965560.0</td>\n      <td>12.3</td>\n      <td>1.30</td>\n      <td>1.29</td>\n      <td>3757082.0</td>\n      <td>151575470.0</td>\n      <td>0.1910</td>\n      <td>42559780.0</td>\n      <td>...</td>\n      <td>0.88</td>\n      <td>10.7300</td>\n      <td>8.308</td>\n      <td>28948873.0</td>\n      <td>2021-12-31</td>\n      <td>3.294587e+07</td>\n      <td>0.057912</td>\n      <td>0.105922</td>\n      <td>0.006604</td>\n      <td>0.266439</td>\n    </tr>\n    <tr>\n      <th>N:VVL</th>\n      <td>VOSS VEKSEL- OG LANDMANDSBANK</td>\n      <td>Norway</td>\n      <td>2221.0</td>\n      <td>11.7</td>\n      <td>0.77</td>\n      <td>0.77</td>\n      <td>4448.0</td>\n      <td>291737.0</td>\n      <td>0.2013</td>\n      <td>44730.0</td>\n      <td>...</td>\n      <td>1.72</td>\n      <td>20.1400</td>\n      <td>26.306</td>\n      <td>58730.0</td>\n      <td>2021-12-31</td>\n      <td>5.842563e+04</td>\n      <td>0.101946</td>\n      <td>0.065384</td>\n      <td>0.007761</td>\n      <td>0.509048</td>\n    </tr>\n    <tr>\n      <th>IS:FIBIH</th>\n      <td>FIBI BANK HOLDING</td>\n      <td>Israel</td>\n      <td>35453.0</td>\n      <td>8.2</td>\n      <td>1.04</td>\n      <td>1.04</td>\n      <td>190709.0</td>\n      <td>25141988.0</td>\n      <td>0.1146</td>\n      <td>1424350.0</td>\n      <td>...</td>\n      <td>4.92</td>\n      <td>40.1761</td>\n      <td>38.587</td>\n      <td>2881547.0</td>\n      <td>2021-12-31</td>\n      <td>1.368025e+06</td>\n      <td>0.026918</td>\n      <td>0.127504</td>\n      <td>0.003753</td>\n      <td>0.494716</td>\n    </tr>\n    <tr>\n      <th>O:TYRO</th>\n      <td>BANK FUR TIROL UND VBG.</td>\n      <td>Austria</td>\n      <td>34031.0</td>\n      <td>13.2</td>\n      <td>0.59</td>\n      <td>0.58</td>\n      <td>80493.0</td>\n      <td>8213700.0</td>\n      <td>0.1362</td>\n      <td>1075390.0</td>\n      <td>...</td>\n      <td>2.39</td>\n      <td>31.6000</td>\n      <td>54.060</td>\n      <td>1119100.0</td>\n      <td>2021-12-31</td>\n      <td>1.839716e+06</td>\n      <td>0.129151</td>\n      <td>0.044210</td>\n      <td>0.005651</td>\n      <td>0.576613</td>\n    </tr>\n    <tr>\n      <th>CL:CRT</th>\n      <td>BANCO DE CREDITO E INVERSION</td>\n      <td>Chile</td>\n      <td>155887.0</td>\n      <td>8.0</td>\n      <td>0.86</td>\n      <td>0.86</td>\n      <td>537099.0</td>\n      <td>44679710.0</td>\n      <td>0.0999</td>\n      <td>4004590.0</td>\n      <td>...</td>\n      <td>2.98</td>\n      <td>23.7200</td>\n      <td>27.509</td>\n      <td>4463756.0</td>\n      <td>2021-12-31</td>\n      <td>4.288295e+06</td>\n      <td>0.060297</td>\n      <td>0.108328</td>\n      <td>0.007552</td>\n      <td>0.628231</td>\n    </tr>\n  </tbody>\n</table>\n<p>5 rows × 21 columns</p>\n</div>"
     },
     "execution_count": 5,
     "metadata": {},
     "output_type": "execute_result"
    }
   ],
   "source": [
    "vals = ['MV', 'DWTA', 'EPS', 'P', 'BVPS', 'Tier1']\n",
    "ids = ['NAME', 'country', 'NOSH']\n",
    "dfc = df[ids].join(df[vals].div(0.6016).div(1000)).join(df[[x for x in df if x not in vals and x not in ids]])\n",
    "df.sample(5)"
   ],
   "metadata": {
    "collapsed": false
   }
  },
  {
   "cell_type": "markdown",
   "source": [
    "Now select comparable banks that are similar to Kiwibank in size, leverage, performace, etc"
   ],
   "metadata": {
    "collapsed": false
   }
  },
  {
   "cell_type": "code",
   "execution_count": 6,
   "outputs": [
    {
     "data": {
      "text/plain": "                        NAME  country       NOSH            MV           DWTA  \\\nType                                                                            \nN:SVEG      SPAREBANKEN VEST   Norway   107323.0   1782.513298   38842.159242   \nD:PCZ      PROCREDIT HOLDING  Germany    58898.0    783.228059   13653.848072   \nTK:HLB  TURKIYE HALK BANKASI   Turkey  2473776.0   1228.008644  102528.690160   \nCZ:KOM        KOMERCNI BANKA  Czechia   190049.0  11886.253324   83229.780585   \nTK:AKB                AKBANK   Turkey  5200000.0   4120.994016   83930.442154   \n\n             EPS         P      BVPS        Tier1    PE  ...  PTBV        NI  \\\nType                                                     ...                   \nN:SVEG  0.001562  0.016606  0.011380  2863.783245  10.7  ...  1.46  100238.0   \nD:PCZ   0.001961  0.013298  0.024167  1316.472739   6.8  ...  0.55   79642.0   \nTK:HLB  0.000055  0.000499  0.001946  6425.427194   9.0  ...  0.26  121574.0   \nCZ:KOM  0.003773  0.062550  0.043745  6760.794548  16.6  ...  1.43  512154.0   \nTK:AKB  0.000199  0.000798  0.001607  8461.218418   4.1  ...  0.49  803036.0   \n\n               RWA  Tier1Ratio       date           BV  leverage       roe  \\\nType                                                                         \nN:SVEG   9249771.0      0.1860 2021-12-31   734733.258  0.031443  0.137306   \nD:PCZ    5600891.0      0.1410 2021-12-31   856318.022  0.104249  0.081161   \nTK:HLB  33398331.0      0.1157 2021-12-31  2896791.696  0.046964  0.028181   \nCZ:KOM  19491882.0      0.2087 2021-12-31  5001519.533  0.099888  0.086256   \nTK:AKB  31467431.0      0.1618 2021-12-31  5028400.000  0.099587  0.124095   \n\n             roa   density  \nType                        \nN:SVEG  0.004290  0.395840  \nD:PCZ   0.009696  0.681858  \nTK:HLB  0.001971  0.541466  \nCZ:KOM  0.010229  0.389285  \nTK:AKB  0.015904  0.623209  \n\n[5 rows x 21 columns]",
      "text/html": "<div>\n<style scoped>\n    .dataframe tbody tr th:only-of-type {\n        vertical-align: middle;\n    }\n\n    .dataframe tbody tr th {\n        vertical-align: top;\n    }\n\n    .dataframe thead th {\n        text-align: right;\n    }\n</style>\n<table border=\"1\" class=\"dataframe\">\n  <thead>\n    <tr style=\"text-align: right;\">\n      <th></th>\n      <th>NAME</th>\n      <th>country</th>\n      <th>NOSH</th>\n      <th>MV</th>\n      <th>DWTA</th>\n      <th>EPS</th>\n      <th>P</th>\n      <th>BVPS</th>\n      <th>Tier1</th>\n      <th>PE</th>\n      <th>...</th>\n      <th>PTBV</th>\n      <th>NI</th>\n      <th>RWA</th>\n      <th>Tier1Ratio</th>\n      <th>date</th>\n      <th>BV</th>\n      <th>leverage</th>\n      <th>roe</th>\n      <th>roa</th>\n      <th>density</th>\n    </tr>\n    <tr>\n      <th>Type</th>\n      <th></th>\n      <th></th>\n      <th></th>\n      <th></th>\n      <th></th>\n      <th></th>\n      <th></th>\n      <th></th>\n      <th></th>\n      <th></th>\n      <th></th>\n      <th></th>\n      <th></th>\n      <th></th>\n      <th></th>\n      <th></th>\n      <th></th>\n      <th></th>\n      <th></th>\n      <th></th>\n      <th></th>\n    </tr>\n  </thead>\n  <tbody>\n    <tr>\n      <th>N:SVEG</th>\n      <td>SPAREBANKEN VEST</td>\n      <td>Norway</td>\n      <td>107323.0</td>\n      <td>1782.513298</td>\n      <td>38842.159242</td>\n      <td>0.001562</td>\n      <td>0.016606</td>\n      <td>0.011380</td>\n      <td>2863.783245</td>\n      <td>10.7</td>\n      <td>...</td>\n      <td>1.46</td>\n      <td>100238.0</td>\n      <td>9249771.0</td>\n      <td>0.1860</td>\n      <td>2021-12-31</td>\n      <td>734733.258</td>\n      <td>0.031443</td>\n      <td>0.137306</td>\n      <td>0.004290</td>\n      <td>0.395840</td>\n    </tr>\n    <tr>\n      <th>D:PCZ</th>\n      <td>PROCREDIT HOLDING</td>\n      <td>Germany</td>\n      <td>58898.0</td>\n      <td>783.228059</td>\n      <td>13653.848072</td>\n      <td>0.001961</td>\n      <td>0.013298</td>\n      <td>0.024167</td>\n      <td>1316.472739</td>\n      <td>6.8</td>\n      <td>...</td>\n      <td>0.55</td>\n      <td>79642.0</td>\n      <td>5600891.0</td>\n      <td>0.1410</td>\n      <td>2021-12-31</td>\n      <td>856318.022</td>\n      <td>0.104249</td>\n      <td>0.081161</td>\n      <td>0.009696</td>\n      <td>0.681858</td>\n    </tr>\n    <tr>\n      <th>TK:HLB</th>\n      <td>TURKIYE HALK BANKASI</td>\n      <td>Turkey</td>\n      <td>2473776.0</td>\n      <td>1228.008644</td>\n      <td>102528.690160</td>\n      <td>0.000055</td>\n      <td>0.000499</td>\n      <td>0.001946</td>\n      <td>6425.427194</td>\n      <td>9.0</td>\n      <td>...</td>\n      <td>0.26</td>\n      <td>121574.0</td>\n      <td>33398331.0</td>\n      <td>0.1157</td>\n      <td>2021-12-31</td>\n      <td>2896791.696</td>\n      <td>0.046964</td>\n      <td>0.028181</td>\n      <td>0.001971</td>\n      <td>0.541466</td>\n    </tr>\n    <tr>\n      <th>CZ:KOM</th>\n      <td>KOMERCNI BANKA</td>\n      <td>Czechia</td>\n      <td>190049.0</td>\n      <td>11886.253324</td>\n      <td>83229.780585</td>\n      <td>0.003773</td>\n      <td>0.062550</td>\n      <td>0.043745</td>\n      <td>6760.794548</td>\n      <td>16.6</td>\n      <td>...</td>\n      <td>1.43</td>\n      <td>512154.0</td>\n      <td>19491882.0</td>\n      <td>0.2087</td>\n      <td>2021-12-31</td>\n      <td>5001519.533</td>\n      <td>0.099888</td>\n      <td>0.086256</td>\n      <td>0.010229</td>\n      <td>0.389285</td>\n    </tr>\n    <tr>\n      <th>TK:AKB</th>\n      <td>AKBANK</td>\n      <td>Turkey</td>\n      <td>5200000.0</td>\n      <td>4120.994016</td>\n      <td>83930.442154</td>\n      <td>0.000199</td>\n      <td>0.000798</td>\n      <td>0.001607</td>\n      <td>8461.218418</td>\n      <td>4.1</td>\n      <td>...</td>\n      <td>0.49</td>\n      <td>803036.0</td>\n      <td>31467431.0</td>\n      <td>0.1618</td>\n      <td>2021-12-31</td>\n      <td>5028400.000</td>\n      <td>0.099587</td>\n      <td>0.124095</td>\n      <td>0.015904</td>\n      <td>0.623209</td>\n    </tr>\n  </tbody>\n</table>\n<p>5 rows × 21 columns</p>\n</div>"
     },
     "execution_count": 6,
     "metadata": {},
     "output_type": "execute_result"
    }
   ],
   "source": [
    "dfc = dfc[dfc['DWTA'].between(10000,  150000)]  # Total assets\n",
    "dfc = dfc[dfc['leverage'].between(0.02, 0.20)]\n",
    "dfc = dfc[dfc['roe'].between(0.02,  0.25)]  # Exclude extreme performers\n",
    "dfc = dfc[dfc['Tier1Ratio'].between(0.06,  0.25)]  # Include banks that meet capital requirements and have no extreme Tier 1 ratios\n",
    "dfc = dfc[dfc['MTBV'].between(0.25,  5)]  # Exclude extreme Market to Book ratios\n",
    "dfc = dfc[dfc['PE'].between(2, 20)] # Exclude extreme P/E ratios\n",
    "\n",
    "dfc.sample(5)"
   ],
   "metadata": {
    "collapsed": false
   }
  },
  {
   "cell_type": "markdown",
   "source": [
    "We now have 71 banks"
   ],
   "metadata": {
    "collapsed": false
   }
  },
  {
   "cell_type": "code",
   "execution_count": 7,
   "outputs": [
    {
     "data": {
      "text/plain": "(71, 21)"
     },
     "execution_count": 7,
     "metadata": {},
     "output_type": "execute_result"
    }
   ],
   "source": [
    "dfc.shape"
   ],
   "metadata": {
    "collapsed": false
   }
  },
  {
   "cell_type": "markdown",
   "source": [
    "Now use the data from the group of comparables to determine the value of Kiwibank.\n",
    "\n",
    "Note that the value of the group of comparable firms increased by about 4 percent from the start of the year up to 22 August."
   ],
   "metadata": {
    "collapsed": false
   }
  },
  {
   "cell_type": "code",
   "execution_count": 8,
   "outputs": [],
   "source": [
    "def valuation(df, nosh, driver, var, mv_appreciation):\n",
    "    print(f'Value increase since start of the year: {mv_appreciation*100.0:4.3f} percent.')\n",
    "    if var in ['MTBV', 'PTBV', 'PE']:\n",
    "        k = stats.hmean(df[var], axis=0)  # According to Liu et al 2002, use the Harmonic mean, not the average\n",
    "        if var == 'PE':\n",
    "            print(f'Earnings Multiple: {k:4.2f}')\n",
    "            print(f'EPS: ${driver / nosh:4.3f}.')\n",
    "        elif var in ['MTBV', 'PTBV']:\n",
    "            print(f'Book Multiple: {k:4.3f}')\n",
    "            print(f'Book value per share: ${driver / nosh:4.3f}.')\n",
    "        else:\n",
    "            return\n",
    "        print(f'Price per share: ${driver/nosh*k:4.5f}')\n",
    "        valuation = driver * k / 1e6 * (1 + mv_appreciation)\n",
    "        print(f'Valuation: ${valuation:4,.2f} in millions.')\n",
    "    else:\n",
    "        valuation = 'error'\n",
    "    print('\\n')\n",
    "    return valuation\n"
   ],
   "metadata": {
    "collapsed": false
   }
  },
  {
   "cell_type": "markdown",
   "source": [
    "Use these inputs for Kiwibank"
   ],
   "metadata": {
    "collapsed": false
   }
  },
  {
   "cell_type": "code",
   "execution_count": 9,
   "outputs": [],
   "source": [
    "# From RBNZ Dashboard\n",
    "profit_jun_22 = 131_300_000\n",
    "book_value_jun_22 = 2_203_500_000\n",
    "\n",
    "# Number of kiwibank shares\n",
    "kiwi_nosh = 1_458_157_403\n",
    "overall_delta_mv= 0.04_833_342"
   ],
   "metadata": {
    "collapsed": false
   }
  },
  {
   "cell_type": "markdown",
   "source": [
    "Determine the value"
   ],
   "metadata": {
    "collapsed": false
   }
  },
  {
   "cell_type": "code",
   "execution_count": 10,
   "outputs": [
    {
     "name": "stdout",
     "output_type": "stream",
     "text": [
      "Value increase since start of the year: 4.833 percent.\n",
      "Earnings Multiple: 9.24\n",
      "EPS: $0.090.\n",
      "Price per share: $0.83224\n",
      "Valuation: $1,272.19 in millions.\n",
      "\n",
      "\n",
      "Value increase since start of the year: 4.833 percent.\n",
      "Book Multiple: 0.783\n",
      "Book value per share: $1.511.\n",
      "Price per share: $1.18382\n",
      "Valuation: $1,809.63 in millions.\n",
      "\n",
      "\n",
      "Value increase since start of the year: 4.833 percent.\n",
      "Book Multiple: 0.778\n",
      "Book value per share: $1.511.\n",
      "Price per share: $1.17575\n",
      "Valuation: $1,797.30 in millions.\n",
      "\n",
      "\n",
      "Average Valuation: $1,626.37 in millions.\n"
     ]
    }
   ],
   "source": [
    "v1 = valuation(dfc, kiwi_nosh, profit_jun_22,     'PE',   overall_delta_mv)\n",
    "v2 = valuation(dfc, kiwi_nosh, book_value_jun_22, 'MTBV', overall_delta_mv)  # using Market to Book ratios\n",
    "v3 = valuation(dfc, kiwi_nosh, book_value_jun_22, 'PTBV', overall_delta_mv)  # using Price to Book ratios\n",
    "\n",
    "print(f'Average Valuation: ${(v1+v2+v3)/3:4,.2f} in millions.')"
   ],
   "metadata": {
    "collapsed": false
   }
  }
 ],
 "metadata": {
  "kernelspec": {
   "display_name": "Python 3",
   "language": "python",
   "name": "python3"
  },
  "language_info": {
   "codemirror_mode": {
    "name": "ipython",
    "version": 2
   },
   "file_extension": ".py",
   "mimetype": "text/x-python",
   "name": "python",
   "nbconvert_exporter": "python",
   "pygments_lexer": "ipython2",
   "version": "2.7.6"
  }
 },
 "nbformat": 4,
 "nbformat_minor": 0
}
